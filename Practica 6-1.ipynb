print((10, "Hola", 3.14))

print((1, 2, 3, 4, 5)[2])

print((1, 2, 3) + (4, 5, 6))

print(*('a', 'b', 'c'))

print(7 in (1, 3, 5, 7, 9))

print((0, 1, 2, 3, 4, 5)[2:5])

print(len((10, 20, 30, 40, 50)))

print((1, 2, 3) * 3)

print(tuple([1, 2, 3]))

print('Minimo:', min((5, 12, 3, 8, 15)), 'Maximo:', max((5, 12, 3, 8, 15)))
