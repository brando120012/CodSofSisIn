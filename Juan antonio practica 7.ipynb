{
 "cells": [
  {
   "cell_type": "code",
   "execution_count": null,
   "id": "95592d82-02ac-419f-9cfc-c9aaa5adb3f7",
   "metadata": {
    "scrolled": true
   },
   "outputs": [],
   "source": [
    "\n",
    "\n",
    "#-------------------------------------------------------------------------#\n",
    "#Escribir un programa que acepte el porcentaje de un alumno y evalue el grado de acuerdo al siguiente criterio\n",
    "#Calificacion\tGrado\n",
    "#   >90\t\t\t\tA\n",
    "#   >80 y <= 90\t\tB\n",
    "#   >=60 y <=80\t\tC\n",
    "#   menor a 60\t\tD\n",
    "\n",
    "calificacion= int (input (\"¿cual es tu calificacion\"))\n",
    "\n",
    "if  calificacion >90: \n",
    "    print(\"Sacaste una A\" )\n",
    "elif calificacion >80 and calificacion <= 90: \n",
    "    print(\"Sacaste una B\")\n",
    "elif calificacion >=60 and calificacion <=80:\n",
    "    print(\"Sacaste una C\")\n",
    "else: \n",
    "    print(\"Sacaste una D\")\n",
    "\n",
    "\n",
    "\n",
    "\n",
    "\n",
    "\n",
    "\n",
    "\n",
    "\n",
    "\n",
    "\n",
    "\n"
   ]
  },
  {
   "cell_type": "code",
   "execution_count": 19,
   "id": "5edbef12-bf9f-4b84-bcf3-f68656ac156e",
   "metadata": {},
   "outputs": [
    {
     "name": "stdin",
     "output_type": "stream",
     "text": [
      "¿Cuál es el precio de la bicicleta 21000\n"
     ]
    },
    {
     "name": "stdout",
     "output_type": "stream",
     "text": [
      "El impuesto a pagar es: $1050.00\n"
     ]
    }
   ],
   "source": [
    "#-------------------------------------------------------------------------#\n",
    "#Escribir un programa que capture el precio de una bicicleta y muestre los impuestos que debe pagar siguiendo los criterios siguientes:\n",
    "# Costo\t\t\t\t\tImpuesto\n",
    "# >100000\t\t\t\t15%\n",
    "# >50000 y <= 100000\t10% \n",
    "#<=50000\t\t\t\t 5%\n",
    "#Escribir un programa que capture el precio de una bicicleta y muestre los impuestos que debe pagar siguiendo los criterios siguientes:\n",
    "# Costo\t\t\t\t\tImpuesto\n",
    "\n",
    "precio= int (input (\"¿Cuál es el precio de la bicicleta\"))\n",
    "\n",
    "if  precio >100000:\n",
    "    impuesto = precio * 0.15\n",
    "elif precio >50000 and precio <= 100000:\n",
    "    impuesto = precio * 0.10\n",
    "else:\n",
    "    impuesto = precio * 0.05\n",
    "\n",
    "print(f\"El impuesto a pagar es: ${impuesto:.2f}\")\n",
    "    "
   ]
  },
  {
   "cell_type": "code",
   "execution_count": 39,
   "id": "cf9b21b1-312b-43a0-ba22-ab9b5213b82a",
   "metadata": {},
   "outputs": [
    {
     "name": "stdin",
     "output_type": "stream",
     "text": [
      "Qué año quieres saber si es bisiesto 2023\n"
     ]
    },
    {
     "name": "stdout",
     "output_type": "stream",
     "text": [
      "no es año bisiesto\n"
     ]
    }
   ],
   "source": [
    "#-------------------------------------------------------------------------#\n",
    "#Escribir un programa que verifique si un año es bisiesto o no\n",
    "\n",
    "\n",
    "año = int(input(\"Qué año quieres saber si es bisiesto\"))\n",
    "años_bisiesto = 2024\n",
    "if (años_bisiesto - año) % 4 == 0:\n",
    "    print(\"ese año es bisiesto\")\n",
    "else:\n",
    "    print(\"no es año bisiesto\")\n",
    "\n",
    "\n",
    "\n",
    "\n",
    "\n",
    "\n",
    "\n",
    "\n",
    "\n"
   ]
  },
  {
   "cell_type": "code",
   "execution_count": 41,
   "id": "74b4d547-d369-42b2-8843-e0f4da6fcaa0",
   "metadata": {},
   "outputs": [
    {
     "name": "stdin",
     "output_type": "stream",
     "text": [
      "Introduce un número del 1 al 7:  1\n"
     ]
    },
    {
     "name": "stdout",
     "output_type": "stream",
     "text": [
      "Domingo\n"
     ]
    }
   ],
   "source": [
    "#-------------------------------------------------------------------------#\n",
    "#Escribir un programa que capture un numero del 1 al 7 y muestre el nombre del dia de la semana\n",
    "#Por ejemplo el 1 seria Domingo y el 2 Lunes\n",
    "\n",
    "def dia_de_la_semana(numero):\n",
    "    dias = {\n",
    "        1: \"Domingo\",\n",
    "        2: \"Lunes\",\n",
    "        3: \"Martes\",\n",
    "        4: \"Miércoles\",\n",
    "        5: \"Jueves\",\n",
    "        6: \"Viernes\",\n",
    "        7: \"Sábado\"\n",
    "    }\n",
    "    \n",
    "    return dias.get(numero, \"Número inválido\")\n",
    "\n",
    "# Capturamos el número del usuario\n",
    "numero = int(input(\"Introduce un número del 1 al 7: \"))\n",
    "# Mostramos el nombre del día correspondiente\n",
    "print(dia_de_la_semana(numero))\n",
    "\n",
    "\n",
    "\n"
   ]
  },
  {
   "cell_type": "code",
   "execution_count": null,
   "id": "e6470d3c-4ff4-4628-95df-74df6c577dc2",
   "metadata": {},
   "outputs": [],
   "source": [
    "#-------------------------------------------------------------------------#\n",
    "#Escribir un programa que acepte un numero del 1 al 12 y muestre el nombre del mes asi como los dias que contiene\n",
    "#Ejemplo 1 seria Enero tiene 31 dias\n",
    "\n",
    "mes = int(input(\"Ingresa un numero del 1-12 para saber el mes y edl dia\"))\n",
    "if mes == 1:\n",
    "    print(\"es Enero\")\n",
    "elif mes == 2:\n",
    "    print(\"es Enero\")\n",
    "elif mes == 3:\n",
    "   print(\"es Enero\")\n",
    "elif mes == 4:\n",
    "    print(\"es Enero\")\n",
    "elif me == 5:\n",
    "    print(\"es Enero\")\n",
    "elif me == 6:\n",
    "     print(\"es Enero\")\n",
    "elif me == 7:\n",
    "     print(\"es Enero\")\n",
    "elif me == 8:\n",
    "    print(\"es Enero\")\n",
    "elif me == 9:\n",
    "    print(\"es Enero\")\n",
    "elif me == 10:\n",
    "     print(\"es Enero\")\n",
    "elif me == 11:\n",
    "\n",
    "\n"
   ]
  }
 ],
 "metadata": {
  "kernelspec": {
   "display_name": "Python [conda env:base] *",
   "language": "python",
   "name": "conda-base-py"
  },
  "language_info": {
   "codemirror_mode": {
    "name": "ipython",
    "version": 3
   },
   "file_extension": ".py",
   "mimetype": "text/x-python",
   "name": "python",
   "nbconvert_exporter": "python",
   "pygments_lexer": "ipython3",
   "version": "3.12.7"
  }
 },
 "nbformat": 4,
 "nbformat_minor": 5
}
