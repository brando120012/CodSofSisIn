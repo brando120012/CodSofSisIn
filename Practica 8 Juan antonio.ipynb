{
 "cells": [
  {
   "cell_type": "code",
   "execution_count": null,
   "metadata": {},
   "outputs": [
    {
     "name": "stdout",
     "output_type": "stream",
     "text": [
      "Ciudad que dijiste tiene Torre Eifel\n",
      "La persona Brenda si puede votar.\n"
     ]
    }
   ],
   "source": [
    "#-------------------------------------------------------------------------#\n",
    "#Pregunta el nombre de una ciudad y muestra el monumento mas famoso de esa ciudad\n",
    "# Ciudad\t\tMonumento\n",
    "#Delhi\t\t\tRed Fort\n",
    "#Paris\t\t\tTorre Eifel\n",
    "#Nueva York\t\tEstatua de la Libertad\n",
    "#Rio de Janeiro\tCristo Redentor\n",
    "\n",
    "\n",
    "ciudad = input(\"¿Qué ciudad quiere preguntar? \")\n",
    "\n",
    "modumentos = {\n",
    "    \"Delhi\": \"Red fort\", \n",
    "    \"Paris\": \"Torre Eifel\",\n",
    "    \"Nueva York\": \"Estatua de la Libertad\",\n",
    "    \"Rio de Janiero\": \"Cristo Redentor\"\n",
    "}\n",
    "print(\"Ciudad que dijiste tiene\" ,modumentos[ciudad])\n",
    "#-------------------------------------------------------------------------#\n",
    "#Escriba un programa para verificar si una persona puede votar o no\n",
    "# De menor a 17 años no puede votar arriba de 18 años puede votar\n",
    "\n",
    "# Persona           # años\n",
    "#Juan        \t\t17\t\n",
    "#Brenda\t            18\n",
    "#Brayan             20\n",
    "#Jose               22\n",
    "\n",
    "Persona = input(\"¿Cuál persona puede votar \")\n",
    "\n",
    "\n",
    "\n",
    "\n",
    "\n",
    "\n",
    "\n",
    "\n"
   ]
  }
 ],
 "metadata": {
  "kernelspec": {
   "display_name": "base",
   "language": "python",
   "name": "python3"
  },
  "language_info": {
   "codemirror_mode": {
    "name": "ipython",
    "version": 3
   },
   "file_extension": ".py",
   "mimetype": "text/x-python",
   "name": "python",
   "nbconvert_exporter": "python",
   "pygments_lexer": "ipython3",
   "version": "3.12.7"
  }
 },
 "nbformat": 4,
 "nbformat_minor": 2
}
