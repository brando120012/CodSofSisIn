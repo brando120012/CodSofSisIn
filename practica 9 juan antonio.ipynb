# Primeros 10 números naturales
print(list(range(1, 11)))

# Primeros 10 números impares
print(list(range(1, 20, 2)))

# Primeros 10 números naturales descendentes
print(list(range(10, 0, -1)))

# Tabla de multiplicar
n = int(input("Número para la tabla de multiplicar: "))
for i in range(1, 11): print(f"{n} x {i} = {n * i}")

# Producto de los dígitos
num = input("Número para producto de dígitos: ")
producto = 1
for d in num: producto *= int(d)
print(producto)
